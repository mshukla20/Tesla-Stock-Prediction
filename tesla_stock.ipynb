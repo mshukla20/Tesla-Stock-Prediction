{
  "nbformat": 4,
  "nbformat_minor": 0,
  "metadata": {
    "colab": {
      "name": "tesla_stock.ipynb",
      "provenance": [],
      "collapsed_sections": []
    },
    "kernelspec": {
      "name": "python3",
      "display_name": "Python 3"
    }
  },
  "cells": [
    {
      "cell_type": "code",
      "metadata": {
        "id": "G3TAl40qx8UP",
        "colab_type": "code",
        "colab": {}
      },
      "source": [
        "#Predicting the closing stock price of a corporation. Using the past 6 months data"
      ],
      "execution_count": 1,
      "outputs": []
    },
    {
      "cell_type": "code",
      "metadata": {
        "id": "Ci1o5OKYyWkb",
        "colab_type": "code",
        "colab": {
          "base_uri": "https://localhost:8080/",
          "height": 87
        },
        "outputId": "1a821489-2e8e-4a1a-a0d6-74633b821fe1"
      },
      "source": [
        "#Import Libraries\n",
        "import math\n",
        "import pandas_datareader as web\n",
        "import numpy as np\n",
        "import pandas as pd\n",
        "from sklearn.preprocessing import MinMaxScaler\n",
        "from keras.models import Sequential\n",
        "from keras.layers import Dense, LSTM\n",
        "import matplotlib.pyplot as plt\n",
        "plt.style.use('fivethirtyeight')"
      ],
      "execution_count": 2,
      "outputs": [
        {
          "output_type": "stream",
          "text": [
            "/usr/local/lib/python3.6/dist-packages/pandas_datareader/compat/__init__.py:7: FutureWarning: pandas.util.testing is deprecated. Use the functions in the public API at pandas.testing instead.\n",
            "  from pandas.util.testing import assert_frame_equal\n",
            "Using TensorFlow backend.\n"
          ],
          "name": "stderr"
        }
      ]
    },
    {
      "cell_type": "code",
      "metadata": {
        "id": "F1qUv-xCzSCz",
        "colab_type": "code",
        "colab": {
          "base_uri": "https://localhost:8080/",
          "height": 431
        },
        "outputId": "97a4251e-6551-45c7-a15d-cda149ca4d25"
      },
      "source": [
        "#Get the stock quote\n",
        "df= web.DataReader('TSLA', data_source='yahoo', start='2010-01-01', end='2020-07-15')\n",
        "#Show the data\n",
        "df"
      ],
      "execution_count": 3,
      "outputs": [
        {
          "output_type": "execute_result",
          "data": {
            "text/html": [
              "<div>\n",
              "<style scoped>\n",
              "    .dataframe tbody tr th:only-of-type {\n",
              "        vertical-align: middle;\n",
              "    }\n",
              "\n",
              "    .dataframe tbody tr th {\n",
              "        vertical-align: top;\n",
              "    }\n",
              "\n",
              "    .dataframe thead th {\n",
              "        text-align: right;\n",
              "    }\n",
              "</style>\n",
              "<table border=\"1\" class=\"dataframe\">\n",
              "  <thead>\n",
              "    <tr style=\"text-align: right;\">\n",
              "      <th></th>\n",
              "      <th>High</th>\n",
              "      <th>Low</th>\n",
              "      <th>Open</th>\n",
              "      <th>Close</th>\n",
              "      <th>Volume</th>\n",
              "      <th>Adj Close</th>\n",
              "    </tr>\n",
              "    <tr>\n",
              "      <th>Date</th>\n",
              "      <th></th>\n",
              "      <th></th>\n",
              "      <th></th>\n",
              "      <th></th>\n",
              "      <th></th>\n",
              "      <th></th>\n",
              "    </tr>\n",
              "  </thead>\n",
              "  <tbody>\n",
              "    <tr>\n",
              "      <th>2010-06-29</th>\n",
              "      <td>25.000000</td>\n",
              "      <td>17.540001</td>\n",
              "      <td>19.000000</td>\n",
              "      <td>23.889999</td>\n",
              "      <td>18766300</td>\n",
              "      <td>23.889999</td>\n",
              "    </tr>\n",
              "    <tr>\n",
              "      <th>2010-06-30</th>\n",
              "      <td>30.420000</td>\n",
              "      <td>23.299999</td>\n",
              "      <td>25.790001</td>\n",
              "      <td>23.830000</td>\n",
              "      <td>17187100</td>\n",
              "      <td>23.830000</td>\n",
              "    </tr>\n",
              "    <tr>\n",
              "      <th>2010-07-01</th>\n",
              "      <td>25.920000</td>\n",
              "      <td>20.270000</td>\n",
              "      <td>25.000000</td>\n",
              "      <td>21.959999</td>\n",
              "      <td>8218800</td>\n",
              "      <td>21.959999</td>\n",
              "    </tr>\n",
              "    <tr>\n",
              "      <th>2010-07-02</th>\n",
              "      <td>23.100000</td>\n",
              "      <td>18.709999</td>\n",
              "      <td>23.000000</td>\n",
              "      <td>19.200001</td>\n",
              "      <td>5139800</td>\n",
              "      <td>19.200001</td>\n",
              "    </tr>\n",
              "    <tr>\n",
              "      <th>2010-07-06</th>\n",
              "      <td>20.000000</td>\n",
              "      <td>15.830000</td>\n",
              "      <td>20.000000</td>\n",
              "      <td>16.110001</td>\n",
              "      <td>6866900</td>\n",
              "      <td>16.110001</td>\n",
              "    </tr>\n",
              "    <tr>\n",
              "      <th>...</th>\n",
              "      <td>...</td>\n",
              "      <td>...</td>\n",
              "      <td>...</td>\n",
              "      <td>...</td>\n",
              "      <td>...</td>\n",
              "      <td>...</td>\n",
              "    </tr>\n",
              "    <tr>\n",
              "      <th>2020-07-09</th>\n",
              "      <td>1408.560059</td>\n",
              "      <td>1351.280029</td>\n",
              "      <td>1396.989990</td>\n",
              "      <td>1394.280029</td>\n",
              "      <td>11717600</td>\n",
              "      <td>1394.280029</td>\n",
              "    </tr>\n",
              "    <tr>\n",
              "      <th>2020-07-10</th>\n",
              "      <td>1548.920044</td>\n",
              "      <td>1376.010010</td>\n",
              "      <td>1396.000000</td>\n",
              "      <td>1544.650024</td>\n",
              "      <td>23337600</td>\n",
              "      <td>1544.650024</td>\n",
              "    </tr>\n",
              "    <tr>\n",
              "      <th>2020-07-13</th>\n",
              "      <td>1794.989990</td>\n",
              "      <td>1471.109985</td>\n",
              "      <td>1659.000000</td>\n",
              "      <td>1497.060059</td>\n",
              "      <td>38985400</td>\n",
              "      <td>1497.060059</td>\n",
              "    </tr>\n",
              "    <tr>\n",
              "      <th>2020-07-14</th>\n",
              "      <td>1590.000000</td>\n",
              "      <td>1431.000000</td>\n",
              "      <td>1556.000000</td>\n",
              "      <td>1516.800049</td>\n",
              "      <td>23418100</td>\n",
              "      <td>1516.800049</td>\n",
              "    </tr>\n",
              "    <tr>\n",
              "      <th>2020-07-15</th>\n",
              "      <td>1550.000000</td>\n",
              "      <td>1457.000000</td>\n",
              "      <td>1543.000000</td>\n",
              "      <td>1546.010010</td>\n",
              "      <td>16264200</td>\n",
              "      <td>1546.010010</td>\n",
              "    </tr>\n",
              "  </tbody>\n",
              "</table>\n",
              "<p>2529 rows × 6 columns</p>\n",
              "</div>"
            ],
            "text/plain": [
              "                   High          Low  ...    Volume    Adj Close\n",
              "Date                                  ...                       \n",
              "2010-06-29    25.000000    17.540001  ...  18766300    23.889999\n",
              "2010-06-30    30.420000    23.299999  ...  17187100    23.830000\n",
              "2010-07-01    25.920000    20.270000  ...   8218800    21.959999\n",
              "2010-07-02    23.100000    18.709999  ...   5139800    19.200001\n",
              "2010-07-06    20.000000    15.830000  ...   6866900    16.110001\n",
              "...                 ...          ...  ...       ...          ...\n",
              "2020-07-09  1408.560059  1351.280029  ...  11717600  1394.280029\n",
              "2020-07-10  1548.920044  1376.010010  ...  23337600  1544.650024\n",
              "2020-07-13  1794.989990  1471.109985  ...  38985400  1497.060059\n",
              "2020-07-14  1590.000000  1431.000000  ...  23418100  1516.800049\n",
              "2020-07-15  1550.000000  1457.000000  ...  16264200  1546.010010\n",
              "\n",
              "[2529 rows x 6 columns]"
            ]
          },
          "metadata": {
            "tags": []
          },
          "execution_count": 3
        }
      ]
    },
    {
      "cell_type": "code",
      "metadata": {
        "id": "ZM0txsu4FW1F",
        "colab_type": "code",
        "colab": {
          "base_uri": "https://localhost:8080/",
          "height": 34
        },
        "outputId": "65036e6a-8d26-46d2-ad57-1a637e4fc70e"
      },
      "source": [
        "#EDA\n",
        "df.shape"
      ],
      "execution_count": 4,
      "outputs": [
        {
          "output_type": "execute_result",
          "data": {
            "text/plain": [
              "(2529, 6)"
            ]
          },
          "metadata": {
            "tags": []
          },
          "execution_count": 4
        }
      ]
    },
    {
      "cell_type": "code",
      "metadata": {
        "id": "EQorbK7UTPXr",
        "colab_type": "code",
        "colab": {
          "base_uri": "https://localhost:8080/",
          "height": 558
        },
        "outputId": "bf80a311-b1e4-4c3c-8940-c0ae7e0bcc61"
      },
      "source": [
        "#Visualize closing price history\n",
        "plt.figure(figsize=(16,8))\n",
        "plt.title('Close Price History')\n",
        "plt.plot(df['Close'])\n",
        "plt.xlabel('Date', fontsize=18)\n",
        "plt.ylabel('Close Price USD ($)', fontsize=18)\n",
        "plt.show()"
      ],
      "execution_count": 5,
      "outputs": [
        {
          "output_type": "display_data",
          "data": {
            "image/png": "[encoded data removed]",
            "text/plain": [
              "<Figure size 1152x576 with 1 Axes>"
            ]
          },
          "metadata": {
            "tags": []
          }
        }
      ]
    },
    {
      "cell_type": "code",
      "metadata": {
        "id": "TGmej6EGWDP4",
        "colab_type": "code",
        "colab": {
          "base_uri": "https://localhost:8080/",
          "height": 34
        },
        "outputId": "ece441b1-04f9-4da4-f60a-e9959fd0d2b3"
      },
      "source": [
        "#Create a new dataframe with only the close column\n",
        "data = df.filter(['Close'])\n",
        "#Convert the dataframe to numpy array\n",
        "dataset = data.values\n",
        "#Get the no. of rows to train the model on\n",
        "training_data_len = math.ceil(len(dataset)*.8)\n",
        "\n",
        "training_data_len"
      ],
      "execution_count": 6,
      "outputs": [
        {
          "output_type": "execute_result",
          "data": {
            "text/plain": [
              "2024"
            ]
          },
          "metadata": {
            "tags": []
          },
          "execution_count": 6
        }
      ]
    },
    {
      "cell_type": "code",
      "metadata": {
        "id": "rEH5rU3CWoUs",
        "colab_type": "code",
        "colab": {
          "base_uri": "https://localhost:8080/",
          "height": 134
        },
        "outputId": "218d9ad6-87f9-4b30-fcc4-e70288a11cc5"
      },
      "source": [
        "#Scale the data\n",
        "scaler = MinMaxScaler(feature_range=(0,1))\n",
        "scaled_data = scaler.fit_transform(dataset)\n",
        "\n",
        "scaled_data"
      ],
      "execution_count": 7,
      "outputs": [
        {
          "output_type": "execute_result",
          "data": {
            "text/plain": [
              "array([[0.00528686],\n",
              "       [0.00524765],\n",
              "       [0.00402559],\n",
              "       ...,\n",
              "       [0.96801096],\n",
              "       [0.98091114],\n",
              "       [1.        ]])"
            ]
          },
          "metadata": {
            "tags": []
          },
          "execution_count": 7
        }
      ]
    },
    {
      "cell_type": "code",
      "metadata": {
        "id": "EPcxTPSVXF1m",
        "colab_type": "code",
        "colab": {
          "base_uri": "https://localhost:8080/",
          "height": 672
        },
        "outputId": "dfdd40a5-8418-41b2-fa0e-165992694a63"
      },
      "source": [
        "#Create the training dataset\n",
        "#Create the scaled training dataset\n",
        "train_data = scaled_data[0:training_data_len, :]\n",
        "#Split the data into x_train and y_train datasets\n",
        "x_train=[]\n",
        "y_train=[]\n",
        "\n",
        "for i in range(60, len(train_data)):\n",
        "  x_train.append(train_data[i-60:i, 0])\n",
        "  y_train.append(train_data[i,0])\n",
        "  if i<=61:\n",
        "    print(x_train)\n",
        "    print(y_train)\n",
        "    print()"
      ],
      "execution_count": 8,
      "outputs": [
        {
          "output_type": "stream",
          "text": [
            "[array([0.00528686, 0.00524765, 0.00402559, 0.00222192, 0.00020259,\n",
            "       0.        , 0.00108482, 0.00104561, 0.00081688, 0.0015292 ,\n",
            "       0.00264016, 0.00267284, 0.00316296, 0.00399292, 0.00294077,\n",
            "       0.00288849, 0.00339823, 0.00358774, 0.00336555, 0.00310415,\n",
            "       0.00321524, 0.00297345, 0.00270551, 0.00334595, 0.00401906,\n",
            "       0.00356814, 0.0030388 , 0.00247678, 0.00248332, 0.00211082,\n",
            "       0.00137236, 0.00117631, 0.00164683, 0.00194745, 0.00218924,\n",
            "       0.00194091, 0.00195398, 0.00215657, 0.00282968, 0.00222192,\n",
            "       0.00267937, 0.00258134, 0.00254867, 0.00265977, 0.0024049 ,\n",
            "       0.0030388 , 0.00343744, 0.0034309 , 0.00309761, 0.00333288,\n",
            "       0.00320871, 0.00285582, 0.00321524, 0.00347665, 0.00403866,\n",
            "       0.00335902, 0.00289503, 0.00343744, 0.00324792, 0.00265977])]\n",
            "[0.002457178590964837]\n",
            "\n",
            "[array([0.00528686, 0.00524765, 0.00402559, 0.00222192, 0.00020259,\n",
            "       0.        , 0.00108482, 0.00104561, 0.00081688, 0.0015292 ,\n",
            "       0.00264016, 0.00267284, 0.00316296, 0.00399292, 0.00294077,\n",
            "       0.00288849, 0.00339823, 0.00358774, 0.00336555, 0.00310415,\n",
            "       0.00321524, 0.00297345, 0.00270551, 0.00334595, 0.00401906,\n",
            "       0.00356814, 0.0030388 , 0.00247678, 0.00248332, 0.00211082,\n",
            "       0.00137236, 0.00117631, 0.00164683, 0.00194745, 0.00218924,\n",
            "       0.00194091, 0.00195398, 0.00215657, 0.00282968, 0.00222192,\n",
            "       0.00267937, 0.00258134, 0.00254867, 0.00265977, 0.0024049 ,\n",
            "       0.0030388 , 0.00343744, 0.0034309 , 0.00309761, 0.00333288,\n",
            "       0.00320871, 0.00285582, 0.00321524, 0.00347665, 0.00403866,\n",
            "       0.00335902, 0.00289503, 0.00343744, 0.00324792, 0.00265977]), array([0.00524765, 0.00402559, 0.00222192, 0.00020259, 0.        ,\n",
            "       0.00108482, 0.00104561, 0.00081688, 0.0015292 , 0.00264016,\n",
            "       0.00267284, 0.00316296, 0.00399292, 0.00294077, 0.00288849,\n",
            "       0.00339823, 0.00358774, 0.00336555, 0.00310415, 0.00321524,\n",
            "       0.00297345, 0.00270551, 0.00334595, 0.00401906, 0.00356814,\n",
            "       0.0030388 , 0.00247678, 0.00248332, 0.00211082, 0.00137236,\n",
            "       0.00117631, 0.00164683, 0.00194745, 0.00218924, 0.00194091,\n",
            "       0.00195398, 0.00215657, 0.00282968, 0.00222192, 0.00267937,\n",
            "       0.00258134, 0.00254867, 0.00265977, 0.0024049 , 0.0030388 ,\n",
            "       0.00343744, 0.0034309 , 0.00309761, 0.00333288, 0.00320871,\n",
            "       0.00285582, 0.00321524, 0.00347665, 0.00403866, 0.00335902,\n",
            "       0.00289503, 0.00343744, 0.00324792, 0.00265977, 0.00245718])]\n",
            "[0.002457178590964837, 0.0028100719272705927]\n",
            "\n"
          ],
          "name": "stdout"
        }
      ]
    },
    {
      "cell_type": "code",
      "metadata": {
        "id": "sDRBHHYWbc4w",
        "colab_type": "code",
        "colab": {}
      },
      "source": [
        "#Convert the x_train and y_train to numpy arrays\n",
        "x_train, y_train = np.array(x_train), np.array(y_train)"
      ],
      "execution_count": 9,
      "outputs": []
    },
    {
      "cell_type": "code",
      "metadata": {
        "id": "7Svh4r2vbrMe",
        "colab_type": "code",
        "colab": {
          "base_uri": "https://localhost:8080/",
          "height": 34
        },
        "outputId": "e88a5e1e-02a2-4c32-d9f9-e2e1c7030a79"
      },
      "source": [
        "#Reshape data\n",
        "x_train = np.reshape(x_train, (x_train.shape[0], x_train.shape[1], 1))\n",
        "x_train.shape"
      ],
      "execution_count": 10,
      "outputs": [
        {
          "output_type": "execute_result",
          "data": {
            "text/plain": [
              "(1964, 60, 1)"
            ]
          },
          "metadata": {
            "tags": []
          },
          "execution_count": 10
        }
      ]
    },
    {
      "cell_type": "code",
      "metadata": {
        "id": "vm5ORe1KcKSD",
        "colab_type": "code",
        "colab": {}
      },
      "source": [
        "#Build the LSTM model\n",
        "model = Sequential()\n",
        "model.add(LSTM(50, return_sequences=True, input_shape= (x_train.shape[1], 1)))\n",
        "model.add(LSTM(50, return_sequences=False))\n",
        "model.add(Dense(25))\n",
        "model.add(Dense(1))"
      ],
      "execution_count": 11,
      "outputs": []
    },
    {
      "cell_type": "code",
      "metadata": {
        "id": "AysL1wHUdjrN",
        "colab_type": "code",
        "colab": {}
      },
      "source": [
        "#Compile the model\n",
        "model.compile(optimizer='adam', loss='mean_squared_error')"
      ],
      "execution_count": 12,
      "outputs": []
    },
    {
      "cell_type": "code",
      "metadata": {
        "id": "cenCwaD3d0T_",
        "colab_type": "code",
        "colab": {
          "base_uri": "https://localhost:8080/",
          "height": 67
        },
        "outputId": "b7ac46a0-ee9c-4930-89e9-212513ac553d"
      },
      "source": [
        "#Train the model\n",
        "model.fit(x_train, y_train, batch_size=1, epochs=1)"
      ],
      "execution_count": 13,
      "outputs": [
        {
          "output_type": "stream",
          "text": [
            "Epoch 1/1\n",
            "1964/1964 [==============================] - 64s 33ms/step - loss: 1.6695e-04\n"
          ],
          "name": "stdout"
        },
        {
          "output_type": "execute_result",
          "data": {
            "text/plain": [
              "<keras.callbacks.callbacks.History at 0x7f5d7c5687f0>"
            ]
          },
          "metadata": {
            "tags": []
          },
          "execution_count": 13
        }
      ]
    },
    {
      "cell_type": "code",
      "metadata": {
        "id": "8hsnzBsteZK4",
        "colab_type": "code",
        "colab": {}
      },
      "source": [
        "#Create the testing dataset\n",
        "#Create a new array containing scaled values from index 2023 to \n",
        "test_data = scaled_data[training_data_len - 60: , :]\n",
        "#Create the data sets x_test and y_test\n",
        "x_test = []\n",
        "y_test = dataset[training_data_len:, :]\n",
        "for i in range(60, len(test_data)):\n",
        "  x_test.append(test_data[i-60:i, 0])"
      ],
      "execution_count": 14,
      "outputs": []
    },
    {
      "cell_type": "code",
      "metadata": {
        "id": "fWtzv8SurXaM",
        "colab_type": "code",
        "colab": {}
      },
      "source": [
        "#Convert data into numpy array\n",
        "x_test = np.array(x_test)"
      ],
      "execution_count": 15,
      "outputs": []
    },
    {
      "cell_type": "code",
      "metadata": {
        "id": "vKVVJmxareG4",
        "colab_type": "code",
        "colab": {}
      },
      "source": [
        "#Reshape the data\n",
        "x_test = np.reshape(x_test, (x_test.shape[0], x_test.shape[1], 1))"
      ],
      "execution_count": 16,
      "outputs": []
    },
    {
      "cell_type": "code",
      "metadata": {
        "id": "oY6XP61qrz0L",
        "colab_type": "code",
        "colab": {}
      },
      "source": [
        "#Get the models predicted price values\n",
        "predictions = model.predict(x_test)\n",
        "predictions = scaler.inverse_transform(predictions)"
      ],
      "execution_count": 17,
      "outputs": []
    },
    {
      "cell_type": "code",
      "metadata": {
        "id": "7Nvsa9MWsWS5",
        "colab_type": "code",
        "colab": {
          "base_uri": "https://localhost:8080/",
          "height": 34
        },
        "outputId": "beedca6f-a7f6-426c-c367-52bc7ec0af7a"
      },
      "source": [
        "#Get the root mean squared error (RMSE)- \n",
        "#how accurate model responds low rmse better fit model\n",
        "# 0 mse means exact predictions\n",
        "\n",
        "rmse = np.sqrt(np.mean(predictions - y_test)**2)\n",
        "rmse"
      ],
      "execution_count": 18,
      "outputs": [
        {
          "output_type": "execute_result",
          "data": {
            "text/plain": [
              "39.76895658285311"
            ]
          },
          "metadata": {
            "tags": []
          },
          "execution_count": 18
        }
      ]
    },
    {
      "cell_type": "code",
      "metadata": {
        "id": "tuHAAuzpsxEw",
        "colab_type": "code",
        "colab": {
          "base_uri": "https://localhost:8080/",
          "height": 659
        },
        "outputId": "715573d1-e4dd-4eb2-e16e-d98f59372e5f"
      },
      "source": [
        "#Plot the data\n",
        "train = data[:training_data_len]\n",
        "valid = data[training_data_len:]\n",
        "valid['Predictions'] = predictions\n",
        "#Visualize the data\n",
        "plt.figure(figsize=(16,8))\n",
        "plt.title('Model')\n",
        "plt.xlabel('Date', fontsize=18)\n",
        "plt.ylabel('Close price USD ($)', fontsize=18)\n",
        "plt.plot(valid[['Close', 'Predictions']])\n",
        "plt.legend(['Train', 'Val', 'Predictions'], loc='lower right')\n",
        "plt.show()"
      ],
      "execution_count": 19,
      "outputs": [
        {
          "output_type": "stream",
          "text": [
            "/usr/local/lib/python3.6/dist-packages/ipykernel_launcher.py:4: SettingWithCopyWarning: \n",
            "A value is trying to be set on a copy of a slice from a DataFrame.\n",
            "Try using .loc[row_indexer,col_indexer] = value instead\n",
            "\n",
            "See the caveats in the documentation: https://pandas.pydata.org/pandas-docs/stable/user_guide/indexing.html#returning-a-view-versus-a-copy\n",
            "  after removing the cwd from sys.path.\n"
          ],
          "name": "stderr"
        },
        {
          "output_type": "display_data",
          "data": {
            "image/png": "[encoded data removed]",
            "text/plain": [
              "<Figure size 1152x576 with 1 Axes>"
            ]
          },
          "metadata": {
            "tags": []
          }
        }
      ]
    },
    {
      "cell_type": "code",
      "metadata": {
        "id": "QgmV4bvYu0gi",
        "colab_type": "code",
        "colab": {
          "base_uri": "https://localhost:8080/",
          "height": 431
        },
        "outputId": "1fa25225-f9ff-47a2-af65-b3ededa43cc0"
      },
      "source": [
        "#Show the valid and Predicted prices\n",
        "valid"
      ],
      "execution_count": 20,
      "outputs": [
        {
          "output_type": "execute_result",
          "data": {
            "text/html": [
              "<div>\n",
              "<style scoped>\n",
              "    .dataframe tbody tr th:only-of-type {\n",
              "        vertical-align: middle;\n",
              "    }\n",
              "\n",
              "    .dataframe tbody tr th {\n",
              "        vertical-align: top;\n",
              "    }\n",
              "\n",
              "    .dataframe thead th {\n",
              "        text-align: right;\n",
              "    }\n",
              "</style>\n",
              "<table border=\"1\" class=\"dataframe\">\n",
              "  <thead>\n",
              "    <tr style=\"text-align: right;\">\n",
              "      <th></th>\n",
              "      <th>Close</th>\n",
              "      <th>Predictions</th>\n",
              "    </tr>\n",
              "    <tr>\n",
              "      <th>Date</th>\n",
              "      <th></th>\n",
              "      <th></th>\n",
              "    </tr>\n",
              "  </thead>\n",
              "  <tbody>\n",
              "    <tr>\n",
              "      <th>2018-07-13</th>\n",
              "      <td>318.869995</td>\n",
              "      <td>299.664703</td>\n",
              "    </tr>\n",
              "    <tr>\n",
              "      <th>2018-07-16</th>\n",
              "      <td>310.100006</td>\n",
              "      <td>299.364563</td>\n",
              "    </tr>\n",
              "    <tr>\n",
              "      <th>2018-07-17</th>\n",
              "      <td>322.690002</td>\n",
              "      <td>298.285095</td>\n",
              "    </tr>\n",
              "    <tr>\n",
              "      <th>2018-07-18</th>\n",
              "      <td>323.850006</td>\n",
              "      <td>298.476562</td>\n",
              "    </tr>\n",
              "    <tr>\n",
              "      <th>2018-07-19</th>\n",
              "      <td>320.230011</td>\n",
              "      <td>299.370728</td>\n",
              "    </tr>\n",
              "    <tr>\n",
              "      <th>...</th>\n",
              "      <td>...</td>\n",
              "      <td>...</td>\n",
              "    </tr>\n",
              "    <tr>\n",
              "      <th>2020-07-09</th>\n",
              "      <td>1394.280029</td>\n",
              "      <td>1087.207397</td>\n",
              "    </tr>\n",
              "    <tr>\n",
              "      <th>2020-07-10</th>\n",
              "      <td>1544.650024</td>\n",
              "      <td>1122.356079</td>\n",
              "    </tr>\n",
              "    <tr>\n",
              "      <th>2020-07-13</th>\n",
              "      <td>1497.060059</td>\n",
              "      <td>1166.560669</td>\n",
              "    </tr>\n",
              "    <tr>\n",
              "      <th>2020-07-14</th>\n",
              "      <td>1516.800049</td>\n",
              "      <td>1200.392578</td>\n",
              "    </tr>\n",
              "    <tr>\n",
              "      <th>2020-07-15</th>\n",
              "      <td>1546.010010</td>\n",
              "      <td>1227.197998</td>\n",
              "    </tr>\n",
              "  </tbody>\n",
              "</table>\n",
              "<p>505 rows × 2 columns</p>\n",
              "</div>"
            ],
            "text/plain": [
              "                  Close  Predictions\n",
              "Date                                \n",
              "2018-07-13   318.869995   299.664703\n",
              "2018-07-16   310.100006   299.364563\n",
              "2018-07-17   322.690002   298.285095\n",
              "2018-07-18   323.850006   298.476562\n",
              "2018-07-19   320.230011   299.370728\n",
              "...                 ...          ...\n",
              "2020-07-09  1394.280029  1087.207397\n",
              "2020-07-10  1544.650024  1122.356079\n",
              "2020-07-13  1497.060059  1166.560669\n",
              "2020-07-14  1516.800049  1200.392578\n",
              "2020-07-15  1546.010010  1227.197998\n",
              "\n",
              "[505 rows x 2 columns]"
            ]
          },
          "metadata": {
            "tags": []
          },
          "execution_count": 20
        }
      ]
    },
    {
      "cell_type": "code",
      "metadata": {
        "id": "KVwQG9-02_5o",
        "colab_type": "code",
        "colab": {
          "base_uri": "https://localhost:8080/",
          "height": 34
        },
        "outputId": "1eb968ea-b76e-4565-c9c5-d4b51f92f1a4"
      },
      "source": [
        "#Get the quote\n",
        "tesla_quote = web.DataReader('TSLA', data_source='yahoo', start='2010-01-01', end='2020-07-16')\n",
        "#Create a new Dataframe\n",
        "new_df = tesla_quote.filter(['Close'])\n",
        "#Get the last 60 day closing price values and convert the dataframe to an array\n",
        "last_60_days = new_df[-60:].values\n",
        "#Scale the data to be values btwn 0 & 1\n",
        "last_60_days_scaled = scaler.transform(last_60_days)\n",
        "#Create an empty list \n",
        "X_test = []\n",
        "#Appendthe past 60 days \n",
        "X_test.append(last_60_days_scaled)\n",
        "#Convert the X_test dataset to a numpy array\n",
        "X_test = np.array(X_test)\n",
        "#Reshape the data \n",
        "X_test = np.reshape(X_test, (X_test.shape[0], X_test.shape[1], 1))\n",
        "#Get the predicted scaled price\n",
        "pred_price = model.predict(X_test)\n",
        "#Undo the scaling\n",
        "pred_price = scaler.inverse_transform(pred_price)\n",
        "print(pred_price)"
      ],
      "execution_count": 21,
      "outputs": [
        {
          "output_type": "stream",
          "text": [
            "[[1249.8387]]\n"
          ],
          "name": "stdout"
        }
      ]
    }
  ]
}